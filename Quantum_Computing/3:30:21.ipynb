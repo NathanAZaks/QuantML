{
 "cells": [
  {
   "cell_type": "code",
   "execution_count": 15,
   "metadata": {},
   "outputs": [],
   "source": [
    "get_ipython().system('pip install yfinance')\n",
    "get_ipython().system('pip install PyPortfolioOpt')\n",
    "get_ipython().system('pip install cvxopt')\n",
    "get_ipython().system('pip install cvxpy')\n",
    "import pypfopt\n",
    "import yfinance as yf\n",
    "import matplotlib.pyplot as plt\n",
    "import pandas as pd\n",
    "import numpy as np\n",
    "from pypfopt import risk_models\n",
    "from pypfopt import plotting\n",
    "from pypfopt import EfficientFrontier\n",
    "from pypfopt import DiscreteAllocation"
   ]
  },
  {
   "cell_type": "code",
   "execution_count": 3,
   "metadata": {},
   "outputs": [],
   "source": [
    "def covariance(prices):\n",
    "    sample_cov = risk_models.sample_cov(prices, frequency=252)\n",
    "    plotting.plot_covariance(sample_cov, plot_correlation=True)\n",
    "    return sample_cov\n",
    "\n",
    "from pypfopt import expected_returns\n",
    "def returns(prices):\n",
    "    mu = expected_returns.capm_return(prices)\n",
    "    return mu\n",
    "\n",
    "def min_variance(prices):\n",
    "    S = risk_models.CovarianceShrinkage(prices).ledoit_wolf()\n",
    "    ef = EfficientFrontier(None, S, weight_bounds=(None, None))\n",
    "    ef.min_volatility()\n",
    "    weights = ef.clean_weights()\n",
    "    ef.portfolio_performance(verbose=True);\n",
    "    return(weights)\n",
    "\n",
    "def Max_Sharpe_port(prices):\n",
    "    mu = returns(prices)\n",
    "    S = covariance(prices)\n",
    "    ef = EfficientFrontier(mu, S) \n",
    "    ef.max_sharpe()\n",
    "    weights = ef.clean_weights()\n",
    "    pd.Series(weights).plot.pie(figsize=(10,10));\n",
    "    return weights\n",
    "\n",
    "from pypfopt import objective_functions\n",
    "risk = 0.15\n",
    "def return_given_risk(prices, risk):\n",
    "    mu = returns(prices)\n",
    "    S = risk_models.sample_cov(prices)\n",
    "    ef = EfficientFrontier(mu, S)\n",
    "    ef.add_objective(objective_functions.L2_reg)  # gamme is the tuning parameter\n",
    "    ef.efficient_risk(0.15)\n",
    "    weights = ef.clean_weights()\n",
    "    return weights\n",
    "\n",
    "\n",
    "def minimize_risk(prices):\n",
    "    mu = returns(prices)\n",
    "    S = covariance(prices)\n",
    "    ef = EfficientFrontier(mu, S, weight_bounds=(None, None))\n",
    "    ef.add_objective(objective_functions.L2_reg)\n",
    "    ef.efficient_return(target_return=0.07, market_neutral=True)\n",
    "    weights = ef.clean_weights()\n",
    "    ef.portfolio_performance(verbose=True);\n",
    "    return weights"
   ]
  },
  {
   "cell_type": "code",
   "execution_count": 4,
   "metadata": {},
   "outputs": [],
   "source": [
    "# sorted by top AUM\n",
    "\n",
    "tech = ['QQQ', 'VGT', 'XLK', 'ARKK', 'FDN'] \n",
    "healthcare = ['XLV', 'VHT','IBB','ARKG','IHI']\n",
    "financials = ['XLF', 'VFH', 'KRE', 'KBE', 'FAS']\n",
    "real_estate = ['VNQ', 'SCHH', 'VNQI', 'IYR', 'REET']\n",
    "energy = ['XLE', 'ICLN', 'AMLP', 'VDE', 'XOP']\n",
    "materials = ['GDX', 'XLB', 'GDXJ', 'GUNR', 'VAW']\n",
    "consumer = ['XLY', 'XLC', 'VCR', 'PEJ', 'FXD']\n",
    "industrials = ['XLI', 'VIS', 'JETS', 'ITA', 'IYT']\n",
    "telecom = ['VOX', 'NXTG', 'FCOM', 'IYZ', 'IXP']\n",
    "consumer_staples = ['XLP', 'VDC', 'IEV', 'FSTA', 'IYK']\n",
    "utilities = ['XLU', 'VPU', 'IGF', 'NFRA', 'PAVE']\n",
    "\n",
    "all_industries = ['QQQ', 'XLV', 'XLF', 'VNQ', 'XLE', 'GDX', 'XLY', 'XLI', 'VOX', 'XLP', 'XLU']"
   ]
  },
  {
   "cell_type": "code",
   "execution_count": 5,
   "metadata": {},
   "outputs": [
    {
     "name": "stdout",
     "output_type": "stream",
     "text": [
      "[*********************100%***********************]  11 of 11 completed\n"
     ]
    }
   ],
   "source": [
    "tickers = all_industries\n",
    "ohlc = yf.download(tickers, period=\"max\")\n",
    "prices = ohlc[\"Adj Close\"].dropna(how=\"all\")"
   ]
  },
  {
   "cell_type": "code",
   "execution_count": 6,
   "metadata": {},
   "outputs": [
    {
     "name": "stdout",
     "output_type": "stream",
     "text": [
      "Annual volatility: 13.0%\n"
     ]
    },
    {
     "data": {
      "text/plain": [
       "OrderedDict([('GDX', 0.08061),\n",
       "             ('QQQ', -0.02869),\n",
       "             ('VNQ', -0.00168),\n",
       "             ('VOX', 0.3828),\n",
       "             ('XLE', -0.07803),\n",
       "             ('XLF', -0.17732),\n",
       "             ('XLI', 0.02068),\n",
       "             ('XLP', 0.47505),\n",
       "             ('XLU', 0.11028),\n",
       "             ('XLV', 0.24364),\n",
       "             ('XLY', -0.02735)])"
      ]
     },
     "execution_count": 6,
     "metadata": {},
     "output_type": "execute_result"
    }
   ],
   "source": [
    "# Long/Short Min Variance\n",
    "S = risk_models.CovarianceShrinkage(prices).ledoit_wolf()\n",
    "ef = EfficientFrontier(None, S, weight_bounds=(None, None))\n",
    "ef.min_volatility()\n",
    "weights = ef.clean_weights()\n",
    "ef.portfolio_performance(verbose=True);\n",
    "weights"
   ]
  },
  {
   "cell_type": "code",
   "execution_count": 7,
   "metadata": {},
   "outputs": [
    {
     "name": "stdout",
     "output_type": "stream",
     "text": [
      "Expected annual return: 8.9%\n",
      "Annual volatility: 17.0%\n",
      "Sharpe Ratio: 0.41\n"
     ]
    },
    {
     "data": {
      "text/plain": [
       "OrderedDict([('GDX', 0.13811),\n",
       "             ('QQQ', 0.0963),\n",
       "             ('VNQ', 0.2363),\n",
       "             ('VOX', 0.33193),\n",
       "             ('XLE', 0.0),\n",
       "             ('XLF', 0.0),\n",
       "             ('XLI', 0.03495),\n",
       "             ('XLP', 0.04316),\n",
       "             ('XLU', 0.01126),\n",
       "             ('XLV', 0.108),\n",
       "             ('XLY', 0.0)])"
      ]
     },
     "execution_count": 7,
     "metadata": {},
     "output_type": "execute_result"
    }
   ],
   "source": [
    "# Max Sharpe with Sector Constraints\n",
    "\n",
    "mu = returns(prices)\n",
    "S = risk_models.CovarianceShrinkage(prices).ledoit_wolf()\n",
    "\n",
    "ef = EfficientFrontier(mu, S)  # weight_bounds automatically set to (0, 1)\n",
    "ef.max_sharpe()\n",
    "weights = ef.clean_weights()\n",
    "\n",
    "ef.portfolio_performance(verbose=True)\n",
    "weights"
   ]
  },
  {
   "cell_type": "code",
   "execution_count": 8,
   "metadata": {},
   "outputs": [
    {
     "name": "stdout",
     "output_type": "stream",
     "text": [
      "Discrete allocation performed with $27.91 leftover\n"
     ]
    },
    {
     "data": {
      "text/plain": [
       "{'GDX': 86,\n",
       " 'QQQ': 6,\n",
       " 'VNQ': 51,\n",
       " 'VOX': 51,\n",
       " 'XLI': 7,\n",
       " 'XLP': 13,\n",
       " 'XLU': 4,\n",
       " 'XLV': 19}"
      ]
     },
     "execution_count": 8,
     "metadata": {},
     "output_type": "execute_result"
    }
   ],
   "source": [
    "from pypfopt import DiscreteAllocation\n",
    "\n",
    "latest_prices = prices.iloc[-1]  # prices as of the day you are allocating\n",
    "da = DiscreteAllocation(weights, latest_prices, total_portfolio_value=20000, short_ratio=0.3)\n",
    "alloc, leftover = da.lp_portfolio()\n",
    "print(f\"Discrete allocation performed with ${leftover:.2f} leftover\")\n",
    "alloc"
   ]
  },
  {
   "cell_type": "code",
   "execution_count": 9,
   "metadata": {},
   "outputs": [
    {
     "name": "stdout",
     "output_type": "stream",
     "text": [
      "Collecting qiskit\n",
      "  Downloading qiskit-0.24.1.tar.gz (4.1 kB)\n",
      "Collecting qiskit-terra==0.16.4\n",
      "  Downloading qiskit_terra-0.16.4-cp36-cp36m-manylinux2010_x86_64.whl (8.5 MB)\n",
      "\u001b[K     |████████████████████████████████| 8.5 MB 4.2 MB/s eta 0:00:01\n",
      "\u001b[?25hCollecting qiskit-aer==0.7.6\n",
      "  Downloading qiskit_aer-0.7.6-cp36-cp36m-manylinux2010_x86_64.whl (17.6 MB)\n",
      "\u001b[K     |████████████████████████████████| 17.6 MB 21.7 MB/s eta 0:00:01\n",
      "\u001b[?25hCollecting qiskit-ibmq-provider==0.12.2\n",
      "  Downloading qiskit_ibmq_provider-0.12.2-py3-none-any.whl (198 kB)\n",
      "\u001b[K     |████████████████████████████████| 198 kB 35.0 MB/s eta 0:00:01\n",
      "\u001b[?25hCollecting qiskit-ignis==0.5.2\n",
      "  Downloading qiskit_ignis-0.5.2-py3-none-any.whl (203 kB)\n",
      "\u001b[K     |████████████████████████████████| 203 kB 70.3 MB/s eta 0:00:01\n",
      "\u001b[?25hCollecting qiskit-aqua==0.8.2\n",
      "  Downloading qiskit_aqua-0.8.2-py3-none-any.whl (2.1 MB)\n",
      "\u001b[K     |████████████████████████████████| 2.1 MB 46.9 MB/s eta 0:00:01\n",
      "\u001b[?25hRequirement already satisfied: jsonschema>=2.6 in /srv/conda/envs/notebook/lib/python3.6/site-packages (from qiskit-terra==0.16.4->qiskit) (3.2.0)\n",
      "Requirement already satisfied: psutil>=5 in /srv/conda/envs/notebook/lib/python3.6/site-packages (from qiskit-terra==0.16.4->qiskit) (5.7.2)\n",
      "Requirement already satisfied: sympy>=1.3 in /srv/conda/envs/notebook/lib/python3.6/site-packages (from qiskit-terra==0.16.4->qiskit) (1.7.1)\n",
      "Collecting dill>=0.3\n",
      "  Downloading dill-0.3.3-py2.py3-none-any.whl (81 kB)\n",
      "\u001b[K     |████████████████████████████████| 81 kB 12.0 MB/s eta 0:00:01\n",
      "\u001b[?25hRequirement already satisfied: networkx>=2.2 in /srv/conda/envs/notebook/lib/python3.6/site-packages (from qiskit-terra==0.16.4->qiskit) (2.5)\n",
      "Collecting python-constraint>=1.4\n",
      "  Downloading python-constraint-1.4.0.tar.bz2 (18 kB)\n",
      "Requirement already satisfied: scipy>=1.4 in /srv/conda/envs/notebook/lib/python3.6/site-packages (from qiskit-terra==0.16.4->qiskit) (1.5.3)\n",
      "Collecting contextvars>=2.4; python_version < \"3.7\"\n",
      "  Downloading contextvars-2.4.tar.gz (9.6 kB)\n",
      "Collecting fastjsonschema>=2.10\n",
      "  Downloading fastjsonschema-2.15.0-py3-none-any.whl (21 kB)\n",
      "Requirement already satisfied: numpy>=1.17 in /srv/conda/envs/notebook/lib/python3.6/site-packages (from qiskit-terra==0.16.4->qiskit) (1.19.5)\n",
      "Collecting retworkx>=0.5.0\n",
      "  Downloading retworkx-0.8.0-cp36-cp36m-manylinux2010_x86_64.whl (1.0 MB)\n",
      "\u001b[K     |████████████████████████████████| 1.0 MB 69.8 MB/s eta 0:00:01\n",
      "\u001b[?25hRequirement already satisfied: python-dateutil>=2.8.0 in /srv/conda/envs/notebook/lib/python3.6/site-packages (from qiskit-terra==0.16.4->qiskit) (2.8.1)\n",
      "Collecting ply>=3.10\n",
      "  Downloading ply-3.11-py2.py3-none-any.whl (49 kB)\n",
      "\u001b[K     |████████████████████████████████| 49 kB 7.3 MB/s  eta 0:00:01\n",
      "\u001b[?25hRequirement already satisfied: cython>=0.27.1 in /srv/conda/envs/notebook/lib/python3.6/site-packages (from qiskit-aer==0.7.6->qiskit) (0.29.21)\n",
      "Collecting pybind11>=2.4\n",
      "  Downloading pybind11-2.6.2-py2.py3-none-any.whl (191 kB)\n",
      "\u001b[K     |████████████████████████████████| 191 kB 64.7 MB/s eta 0:00:01\n",
      "\u001b[?25hRequirement already satisfied: urllib3>=1.21.1 in /srv/conda/envs/notebook/lib/python3.6/site-packages (from qiskit-ibmq-provider==0.12.2->qiskit) (1.25.10)\n",
      "Collecting nest-asyncio!=1.1.0,>=1.0.0\n",
      "  Downloading nest_asyncio-1.5.1-py3-none-any.whl (5.0 kB)\n",
      "Collecting requests-ntlm>=1.1.0\n",
      "  Downloading requests_ntlm-1.1.0-py2.py3-none-any.whl (5.7 kB)\n",
      "Requirement already satisfied: requests>=2.19 in /srv/conda/envs/notebook/lib/python3.6/site-packages (from qiskit-ibmq-provider==0.12.2->qiskit) (2.24.0)\n",
      "Collecting websockets>=8\n",
      "  Downloading websockets-8.1-cp36-cp36m-manylinux2010_x86_64.whl (78 kB)\n",
      "\u001b[K     |████████████████████████████████| 78 kB 9.6 MB/s  eta 0:00:01\n",
      "\u001b[?25hRequirement already satisfied: setuptools>=40.1.0 in /srv/conda/envs/notebook/lib/python3.6/site-packages (from qiskit-ignis==0.5.2->qiskit) (49.2.0.post20200712)\n",
      "Requirement already satisfied: scikit-learn>=0.17 in /srv/conda/envs/notebook/lib/python3.6/site-packages (from qiskit-ignis==0.5.2->qiskit) (0.24.1)\n",
      "Collecting dataclasses; python_version < \"3.7\"\n",
      "  Downloading dataclasses-0.8-py3-none-any.whl (19 kB)\n",
      "Collecting fastdtw\n",
      "  Downloading fastdtw-0.3.4.tar.gz (133 kB)\n",
      "\u001b[K     |████████████████████████████████| 133 kB 36.8 MB/s eta 0:00:01\n",
      "\u001b[?25hRequirement already satisfied: pandas in /srv/conda/envs/notebook/lib/python3.6/site-packages (from qiskit-aqua==0.8.2->qiskit) (1.1.5)\n",
      "Collecting docplex==2.15.194\n",
      "  Downloading docplex-2.15.194.tar.gz (582 kB)\n",
      "\u001b[K     |████████████████████████████████| 582 kB 56.0 MB/s eta 0:00:01\n",
      "\u001b[?25hRequirement already satisfied: yfinance in /srv/conda/envs/notebook/lib/python3.6/site-packages (from qiskit-aqua==0.8.2->qiskit) (0.1.59)\n",
      "Collecting quandl\n",
      "  Downloading Quandl-3.6.1-py2.py3-none-any.whl (26 kB)\n",
      "Collecting h5py\n",
      "  Downloading h5py-3.1.0-cp36-cp36m-manylinux1_x86_64.whl (4.0 MB)\n",
      "\u001b[K     |████████████████████████████████| 4.0 MB 51.2 MB/s eta 0:00:01\n",
      "\u001b[?25hCollecting dlx\n",
      "  Downloading dlx-1.0.4.tar.gz (5.5 kB)\n",
      "Requirement already satisfied: attrs>=17.4.0 in /srv/conda/envs/notebook/lib/python3.6/site-packages (from jsonschema>=2.6->qiskit-terra==0.16.4->qiskit) (19.3.0)\n",
      "Requirement already satisfied: importlib-metadata; python_version < \"3.8\" in /srv/conda/envs/notebook/lib/python3.6/site-packages (from jsonschema>=2.6->qiskit-terra==0.16.4->qiskit) (1.7.0)\n",
      "Requirement already satisfied: six>=1.11.0 in /srv/conda/envs/notebook/lib/python3.6/site-packages (from jsonschema>=2.6->qiskit-terra==0.16.4->qiskit) (1.15.0)\n",
      "Requirement already satisfied: pyrsistent>=0.14.0 in /srv/conda/envs/notebook/lib/python3.6/site-packages (from jsonschema>=2.6->qiskit-terra==0.16.4->qiskit) (0.16.0)\n",
      "Requirement already satisfied: mpmath>=0.19 in /srv/conda/envs/notebook/lib/python3.6/site-packages (from sympy>=1.3->qiskit-terra==0.16.4->qiskit) (1.1.0)\n",
      "Requirement already satisfied: decorator>=4.3.0 in /srv/conda/envs/notebook/lib/python3.6/site-packages (from networkx>=2.2->qiskit-terra==0.16.4->qiskit) (4.4.2)\n",
      "Collecting immutables>=0.9\n",
      "  Downloading immutables-0.15-cp36-cp36m-manylinux1_x86_64.whl (100 kB)\n",
      "\u001b[K     |████████████████████████████████| 100 kB 12.2 MB/s ta 0:00:01\n",
      "\u001b[?25hCollecting ntlm-auth>=1.0.2\n",
      "  Downloading ntlm_auth-1.5.0-py2.py3-none-any.whl (29 kB)\n",
      "Requirement already satisfied: cryptography>=1.3 in /srv/conda/envs/notebook/lib/python3.6/site-packages (from requests-ntlm>=1.1.0->qiskit-ibmq-provider==0.12.2->qiskit) (3.0)\n",
      "Requirement already satisfied: chardet<4,>=3.0.2 in /srv/conda/envs/notebook/lib/python3.6/site-packages (from requests>=2.19->qiskit-ibmq-provider==0.12.2->qiskit) (3.0.4)\n",
      "Requirement already satisfied: certifi>=2017.4.17 in /srv/conda/envs/notebook/lib/python3.6/site-packages (from requests>=2.19->qiskit-ibmq-provider==0.12.2->qiskit) (2020.6.20)\n",
      "Requirement already satisfied: idna<3,>=2.5 in /srv/conda/envs/notebook/lib/python3.6/site-packages (from requests>=2.19->qiskit-ibmq-provider==0.12.2->qiskit) (2.10)\n",
      "Requirement already satisfied: threadpoolctl>=2.0.0 in /srv/conda/envs/notebook/lib/python3.6/site-packages (from scikit-learn>=0.17->qiskit-ignis==0.5.2->qiskit) (2.1.0)\n",
      "Requirement already satisfied: joblib>=0.11 in /srv/conda/envs/notebook/lib/python3.6/site-packages (from scikit-learn>=0.17->qiskit-ignis==0.5.2->qiskit) (1.0.0)\n",
      "Requirement already satisfied: pytz>=2017.2 in /srv/conda/envs/notebook/lib/python3.6/site-packages (from pandas->qiskit-aqua==0.8.2->qiskit) (2020.5)\n",
      "Requirement already satisfied: multitasking>=0.0.7 in /srv/conda/envs/notebook/lib/python3.6/site-packages (from yfinance->qiskit-aqua==0.8.2->qiskit) (0.0.9)\n",
      "Requirement already satisfied: lxml>=4.5.1 in /srv/conda/envs/notebook/lib/python3.6/site-packages (from yfinance->qiskit-aqua==0.8.2->qiskit) (4.6.3)\n",
      "Collecting more-itertools\n",
      "  Downloading more_itertools-8.7.0-py3-none-any.whl (48 kB)\n",
      "\u001b[K     |████████████████████████████████| 48 kB 7.6 MB/s  eta 0:00:01\n",
      "\u001b[?25hCollecting inflection>=0.3.1\n",
      "  Downloading inflection-0.5.1-py2.py3-none-any.whl (9.5 kB)\n",
      "Collecting cached-property; python_version < \"3.8\"\n",
      "  Downloading cached_property-1.5.2-py2.py3-none-any.whl (7.6 kB)\n",
      "Requirement already satisfied: zipp>=0.5 in /srv/conda/envs/notebook/lib/python3.6/site-packages (from importlib-metadata; python_version < \"3.8\"->jsonschema>=2.6->qiskit-terra==0.16.4->qiskit) (3.1.0)\n",
      "Requirement already satisfied: cffi!=1.11.3,>=1.8 in /srv/conda/envs/notebook/lib/python3.6/site-packages (from cryptography>=1.3->requests-ntlm>=1.1.0->qiskit-ibmq-provider==0.12.2->qiskit) (1.14.0)\n",
      "Requirement already satisfied: pycparser in /srv/conda/envs/notebook/lib/python3.6/site-packages (from cffi!=1.11.3,>=1.8->cryptography>=1.3->requests-ntlm>=1.1.0->qiskit-ibmq-provider==0.12.2->qiskit) (2.20)\n",
      "Building wheels for collected packages: qiskit, python-constraint, contextvars, fastdtw, docplex, dlx\n",
      "  Building wheel for qiskit (setup.py) ... \u001b[?25ldone\n",
      "\u001b[?25h  Created wheel for qiskit: filename=qiskit-0.24.1-py3-none-any.whl size=2917 sha256=649e802e9b86e732f030e244ea001986a5c20afc4f80f53eab27bbd18a385c56\n",
      "  Stored in directory: /home/jovyan/.cache/pip/wheels/a7/ae/61/af15b7b7d24ac8476692a65f85f6c59aadfac55f08e229001f\n",
      "  Building wheel for python-constraint (setup.py) ... \u001b[?25ldone\n",
      "\u001b[?25h  Created wheel for python-constraint: filename=python_constraint-1.4.0-py2.py3-none-any.whl size=24080 sha256=069adde178ebfe155b402b90ce32b86cab220fdda2054cc1d544474e712d255e\n",
      "  Stored in directory: /home/jovyan/.cache/pip/wheels/c2/e2/65/6222764e3e5b677acdb04b592abab7e15140a70baace656d81\n",
      "  Building wheel for contextvars (setup.py) ... \u001b[?25ldone\n",
      "\u001b[?25h  Created wheel for contextvars: filename=contextvars-2.4-py3-none-any.whl size=7664 sha256=c26443003f4f09ca58d78bb0aa1b88116d874bd917e0331c0d219f9d14b6e3fb\n",
      "  Stored in directory: /home/jovyan/.cache/pip/wheels/41/11/53/911724983aa48deb94792432e14e518447212dd6c5477d49d3\n",
      "  Building wheel for fastdtw (setup.py) ... \u001b[?25ldone\n",
      "\u001b[?25h  Created wheel for fastdtw: filename=fastdtw-0.3.4-cp36-cp36m-linux_x86_64.whl size=384352 sha256=51650448385a7b679f26f49979ed4a36d8b84dd166cc33bb123c682305d8945c\n",
      "  Stored in directory: /home/jovyan/.cache/pip/wheels/50/66/7a/7c98f31ea8ecc3a04a5b20ec6b48fbdf02c899034e95cc1ede\n",
      "  Building wheel for docplex (setup.py) ... \u001b[?25ldone\n",
      "\u001b[?25h  Created wheel for docplex: filename=docplex-2.15.194-py3-none-any.whl size=645115 sha256=0e3d7c1a2f10ee74ffe323676c2eec7edb5b53949786efa6982eacfd38d909b7\n",
      "  Stored in directory: /home/jovyan/.cache/pip/wheels/89/63/60/500e68679b86eff8ba45a2405cd0d30cdb2ccc913ffa63a000\n",
      "  Building wheel for dlx (setup.py) ... \u001b[?25ldone\n",
      "\u001b[?25h  Created wheel for dlx: filename=dlx-1.0.4-py3-none-any.whl size=5709 sha256=8b120167f8a7284a4b5ba732aae29721c970150f100cff9d9797f5924a464070\n",
      "  Stored in directory: /home/jovyan/.cache/pip/wheels/ad/a3/52/859d389366d76e9e371e5a2dabefde5da7678c0032f008ca0a\n",
      "Successfully built qiskit python-constraint contextvars fastdtw docplex dlx\n",
      "Installing collected packages: dill, python-constraint, immutables, contextvars, fastjsonschema, retworkx, ply, qiskit-terra, pybind11, qiskit-aer, nest-asyncio, ntlm-auth, requests-ntlm, websockets, qiskit-ibmq-provider, qiskit-ignis, dataclasses, fastdtw, docplex, more-itertools, inflection, quandl, cached-property, h5py, dlx, qiskit-aqua, qiskit\n",
      "Successfully installed cached-property-1.5.2 contextvars-2.4 dataclasses-0.8 dill-0.3.3 dlx-1.0.4 docplex-2.15.194 fastdtw-0.3.4 fastjsonschema-2.15.0 h5py-3.1.0 immutables-0.15 inflection-0.5.1 more-itertools-8.7.0 nest-asyncio-1.5.1 ntlm-auth-1.5.0 ply-3.11 pybind11-2.6.2 python-constraint-1.4.0 qiskit-0.24.1 qiskit-aer-0.7.6 qiskit-aqua-0.8.2 qiskit-ibmq-provider-0.12.2 qiskit-ignis-0.5.2 qiskit-terra-0.16.4 quandl-3.6.1 requests-ntlm-1.1.0 retworkx-0.8.0 websockets-8.1\n"
     ]
    }
   ],
   "source": [
    "get_ipython().system('pip install qiskit')\n",
    "get_ipython().run_line_magic('matplotlib', 'inline')\n",
    "from qiskit.finance import QiskitFinanceError\n",
    "from qiskit.finance.data_providers import *\n",
    "import warnings\n",
    "warnings.filterwarnings(\"ignore\", category=DeprecationWarning)\n",
    "import datetime\n",
    "import matplotlib.pyplot as plt\n",
    "from pandas.plotting import register_matplotlib_converters\n",
    "register_matplotlib_converters()\n",
    "\n",
    "from qiskit import Aer\n",
    "from qiskit.circuit.library import TwoLocal\n",
    "from qiskit.aqua import QuantumInstance\n",
    "from qiskit.finance.applications.ising import portfolio\n",
    "from qiskit.optimization.applications.ising.common import sample_most_likely\n",
    "from qiskit.finance.data_providers import RandomDataProvider\n",
    "from qiskit.aqua.algorithms import VQE, QAOA, NumPyMinimumEigensolver\n",
    "from qiskit.aqua.components.optimizers import COBYLA\n",
    "import numpy as np\n",
    "import matplotlib.pyplot as plt\n",
    "import datetime"
   ]
  },
  {
   "cell_type": "code",
   "execution_count": 10,
   "metadata": {},
   "outputs": [],
   "source": [
    "data = YahooDataProvider(\n",
    "                 tickers = [\"AEO\", \"ABBY\", \"AEP\", \"AAL\"],\n",
    "                 start=datetime.datetime(2018, 1, 1),\n",
    "                 end=datetime.datetime(2018, 12, 31))\n",
    "data.run()\n",
    "\n",
    "num_assets = 4\n",
    "\n",
    "mu = data.get_period_return_mean_vector()\n",
    "sigma = data.get_period_return_covariance_matrix()\n",
    "\n",
    "q = 0.5                   # set risk factor\n",
    "budget = num_assets // 2  # set budget\n",
    "penalty = num_assets      # set parameter to scale the budget penalty term\n",
    "\n",
    "qubitOp, offset = portfolio.get_operator(mu, sigma, q, budget, penalty)"
   ]
  },
  {
   "cell_type": "code",
   "execution_count": 11,
   "metadata": {},
   "outputs": [],
   "source": [
    "def index_to_selection(i, num_assets):\n",
    "    s = \"{0:b}\".format(i).rjust(num_assets)\n",
    "    x = np.array([1 if s[i]=='1' else 0 for i in reversed(range(num_assets))])\n",
    "    return x\n",
    "\n",
    "def print_result(result):\n",
    "    selection = sample_most_likely(result.eigenstate)\n",
    "    value = portfolio.portfolio_value(selection, mu, sigma, q, budget, penalty)\n",
    "    print('Optimal: selection {}, value {:.4f}'.format(selection, value))\n",
    "\n",
    "    eigenvector = result.eigenstate if isinstance(result.eigenstate, np.ndarray) else result.eigenstate.to_matrix()\n",
    "    probabilities = np.abs(eigenvector)**2\n",
    "    i_sorted = reversed(np.argsort(probabilities))\n",
    "    print('\\n----------------- Full result ---------------------')\n",
    "    print('selection\\tvalue\\t\\tprobability')\n",
    "    print('---------------------------------------------------')\n",
    "    for i in i_sorted:\n",
    "        x = index_to_selection(i, num_assets)\n",
    "        value = portfolio.portfolio_value(x, mu, sigma, q, budget, penalty)\n",
    "        probability = probabilities[i]\n",
    "        print('%10s\\t%.4f\\t\\t%.4f' %(x, value, probability))\n"
   ]
  },
  {
   "cell_type": "code",
   "execution_count": 12,
   "metadata": {},
   "outputs": [
    {
     "name": "stdout",
     "output_type": "stream",
     "text": [
      "Optimal: selection [1 0 1 0], value -0.0004\n",
      "\n",
      "----------------- Full result ---------------------\n",
      "selection\tvalue\t\tprobability\n",
      "---------------------------------------------------\n",
      " [1 0 1 0]\t-0.0004\t\t1.0000\n",
      " [1 1 1 1]\t16.0036\t\t0.0000\n",
      " [0 1 1 1]\t4.0032\t\t0.0000\n",
      " [1 0 1 1]\t4.0019\t\t0.0000\n",
      " [0 0 1 1]\t0.0017\t\t0.0000\n",
      " [1 1 0 1]\t4.0039\t\t0.0000\n",
      " [0 1 0 1]\t0.0034\t\t0.0000\n",
      " [1 0 0 1]\t0.0022\t\t0.0000\n",
      " [0 0 0 1]\t4.0020\t\t0.0000\n",
      " [1 1 1 0]\t4.0011\t\t0.0000\n",
      " [0 1 1 0]\t0.0009\t\t0.0000\n",
      " [0 0 1 0]\t3.9997\t\t0.0000\n",
      " [1 1 0 0]\t0.0014\t\t0.0000\n",
      " [0 1 0 0]\t4.0012\t\t0.0000\n",
      " [1 0 0 0]\t3.9999\t\t0.0000\n",
      " [0 0 0 0]\t16.0000\t\t0.0000\n"
     ]
    }
   ],
   "source": [
    "exact_eigensolver = NumPyMinimumEigensolver(qubitOp)\n",
    "result = exact_eigensolver.run()\n",
    "\n",
    "print_result(result)"
   ]
  },
  {
   "cell_type": "code",
   "execution_count": 13,
   "metadata": {},
   "outputs": [
    {
     "name": "stdout",
     "output_type": "stream",
     "text": [
      "Optimal: selection [0. 1. 1. 0.], value 0.0009\n",
      "\n",
      "----------------- Full result ---------------------\n",
      "selection\tvalue\t\tprobability\n",
      "---------------------------------------------------\n",
      " [0 1 1 0]\t0.0009\t\t0.6572\n",
      " [1 0 1 0]\t-0.0004\t\t0.2691\n",
      " [1 1 0 0]\t0.0014\t\t0.0733\n",
      " [0 0 1 1]\t0.0017\t\t0.0001\n",
      " [0 1 0 1]\t0.0034\t\t0.0001\n",
      " [0 0 0 1]\t4.0020\t\t0.0001\n",
      " [1 0 0 1]\t0.0022\t\t0.0001\n",
      " [1 1 0 1]\t4.0039\t\t0.0000\n",
      " [1 0 0 0]\t3.9999\t\t0.0000\n",
      " [0 1 1 1]\t4.0032\t\t0.0000\n",
      " [0 0 1 0]\t3.9997\t\t0.0000\n",
      " [0 0 0 0]\t16.0000\t\t0.0000\n",
      " [0 1 0 0]\t4.0012\t\t0.0000\n",
      " [1 1 1 1]\t16.0036\t\t0.0000\n",
      " [1 0 1 1]\t4.0019\t\t0.0000\n",
      " [1 1 1 0]\t4.0011\t\t0.0000\n"
     ]
    }
   ],
   "source": [
    "backend = Aer.get_backend('statevector_simulator')\n",
    "seed = 50\n",
    "\n",
    "cobyla = COBYLA()\n",
    "cobyla.set_options(maxiter=500)\n",
    "ry = TwoLocal(qubitOp.num_qubits, 'ry', 'cz', reps=3, entanglement='full')\n",
    "vqe = VQE(qubitOp, ry, cobyla)\n",
    "vqe.random_seed = seed\n",
    "\n",
    "quantum_instance = QuantumInstance(backend=backend, seed_simulator=seed, seed_transpiler=seed)\n",
    "\n",
    "result = vqe.run(quantum_instance)\n",
    "\n",
    "print_result(result)"
   ]
  },
  {
   "cell_type": "code",
   "execution_count": 14,
   "metadata": {},
   "outputs": [
    {
     "name": "stdout",
     "output_type": "stream",
     "text": [
      "Optimal: selection [1. 0. 1. 0.], value -0.0004\n",
      "\n",
      "----------------- Full result ---------------------\n",
      "selection\tvalue\t\tprobability\n",
      "---------------------------------------------------\n",
      " [1 0 1 0]\t-0.0004\t\t0.1667\n",
      " [0 1 1 0]\t0.0009\t\t0.1667\n",
      " [1 1 0 0]\t0.0014\t\t0.1667\n",
      " [0 0 1 1]\t0.0017\t\t0.1667\n",
      " [1 0 0 1]\t0.0022\t\t0.1667\n",
      " [0 1 0 1]\t0.0034\t\t0.1666\n",
      " [1 0 0 0]\t3.9999\t\t0.0000\n",
      " [0 0 1 0]\t3.9997\t\t0.0000\n",
      " [0 1 0 0]\t4.0012\t\t0.0000\n",
      " [0 0 0 1]\t4.0020\t\t0.0000\n",
      " [1 1 1 0]\t4.0011\t\t0.0000\n",
      " [0 0 0 0]\t16.0000\t\t0.0000\n",
      " [1 0 1 1]\t4.0019\t\t0.0000\n",
      " [1 1 1 1]\t16.0036\t\t0.0000\n",
      " [0 1 1 1]\t4.0032\t\t0.0000\n",
      " [1 1 0 1]\t4.0039\t\t0.0000\n"
     ]
    }
   ],
   "source": [
    "backend = Aer.get_backend('statevector_simulator')\n",
    "seed = 50\n",
    "\n",
    "cobyla = COBYLA()\n",
    "cobyla.set_options(maxiter=250)\n",
    "qaoa = QAOA(qubitOp, cobyla, 3)\n",
    "\n",
    "qaoa.random_seed = seed\n",
    "\n",
    "quantum_instance = QuantumInstance(backend=backend, seed_simulator=seed, seed_transpiler=seed)\n",
    "\n",
    "result = qaoa.run(quantum_instance)\n",
    "\n",
    "print_result(result)"
   ]
  },
  {
   "cell_type": "code",
   "execution_count": null,
   "metadata": {},
   "outputs": [],
   "source": []
  },
  {
   "cell_type": "code",
   "execution_count": null,
   "metadata": {},
   "outputs": [],
   "source": []
  }
 ],
 "metadata": {
  "kernelspec": {
   "display_name": "Python 3",
   "language": "python",
   "name": "python3"
  },
  "language_info": {
   "codemirror_mode": {
    "name": "ipython",
    "version": 3
   },
   "file_extension": ".py",
   "mimetype": "text/x-python",
   "name": "python",
   "nbconvert_exporter": "python",
   "pygments_lexer": "ipython3",
   "version": "3.6.11"
  }
 },
 "nbformat": 4,
 "nbformat_minor": 2
}
